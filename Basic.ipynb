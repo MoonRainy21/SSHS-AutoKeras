{
 "cells": [
  {
   "cell_type": "markdown",
   "metadata": {},
   "source": [
    "# 처음 만나는 비단뱀"
   ]
  },
  {
   "cell_type": "markdown",
   "metadata": {},
   "source": [
    "밑에 있는 셀에 `Shift + Enter`를 눌러 보세요!"
   ]
  },
  {
   "cell_type": "code",
   "execution_count": 2,
   "metadata": {},
   "outputs": [
    {
     "data": {
      "text/plain": [
       "'SSHS is hell'"
      ]
     },
     "execution_count": 2,
     "metadata": {},
     "output_type": "execute_result"
    }
   ],
   "source": [
    "\"SSHS is hell\""
   ]
  },
  {
   "cell_type": "code",
   "execution_count": 14,
   "metadata": {},
   "outputs": [
    {
     "data": {
      "text/plain": [
       "(12, 2, 35, 1.4, 1, 16807, 2)"
      ]
     },
     "execution_count": 14,
     "metadata": {},
     "output_type": "execute_result"
    }
   ],
   "source": [
    "7 + 5, 7 - 5, 7 * 5, 7 / 5, 7 // 5, 7 ** 5, 7 % 5"
   ]
  },
  {
   "cell_type": "markdown",
   "metadata": {},
   "source": [
    "**문제 1.** (3 + 5) * 6을 파이썬으로 계산해 보세요!"
   ]
  },
  {
   "cell_type": "code",
   "execution_count": null,
   "metadata": {},
   "outputs": [],
   "source": []
  },
  {
   "cell_type": "markdown",
   "metadata": {},
   "source": [
    "파이썬을 포함한 여러 프로그래밍 언어에서는 변수에 값을 저장할 수 있어요.\n",
    "\n",
    "변수의 **자료형**에는 숫자, 문자, 콜렉션(리스트, 튜플 등), 클래스 객체 등이 있어요."
   ]
  },
  {
   "cell_type": "code",
   "execution_count": 5,
   "metadata": {},
   "outputs": [
    {
     "data": {
      "text/plain": [
       "3"
      ]
     },
     "execution_count": 5,
     "metadata": {},
     "output_type": "execute_result"
    }
   ],
   "source": [
    "x = 3\n",
    "x"
   ]
  },
  {
   "cell_type": "code",
   "execution_count": 6,
   "metadata": {},
   "outputs": [
    {
     "data": {
      "text/plain": [
       "10"
      ]
     },
     "execution_count": 6,
     "metadata": {},
     "output_type": "execute_result"
    }
   ],
   "source": [
    "x + 7"
   ]
  },
  {
   "cell_type": "code",
   "execution_count": 7,
   "metadata": {},
   "outputs": [
    {
     "data": {
      "text/plain": [
       "int"
      ]
     },
     "execution_count": 7,
     "metadata": {},
     "output_type": "execute_result"
    }
   ],
   "source": [
    "# 자료형 확인\n",
    "type(x)"
   ]
  },
  {
   "cell_type": "markdown",
   "metadata": {},
   "source": [
    "파이썬은 **동적 타입 언어**로, 변수의 자료형이 고정되지 않아요. "
   ]
  },
  {
   "cell_type": "code",
   "execution_count": 9,
   "metadata": {},
   "outputs": [
    {
     "data": {
      "text/plain": [
       "3.14"
      ]
     },
     "execution_count": 9,
     "metadata": {},
     "output_type": "execute_result"
    }
   ],
   "source": [
    "x = 3.14\n",
    "x"
   ]
  },
  {
   "cell_type": "code",
   "execution_count": 10,
   "metadata": {},
   "outputs": [
    {
     "data": {
      "text/plain": [
       "float"
      ]
     },
     "execution_count": 10,
     "metadata": {},
     "output_type": "execute_result"
    }
   ],
   "source": [
    "type(x)"
   ]
  },
  {
   "cell_type": "code",
   "execution_count": 13,
   "metadata": {},
   "outputs": [
    {
     "data": {
      "text/plain": [
       "(int, float, str, tuple, list, bool)"
      ]
     },
     "execution_count": 13,
     "metadata": {},
     "output_type": "execute_result"
    }
   ],
   "source": [
    "# 여러 가지 데이터 타입\n",
    "(\n",
    "    type(3),\n",
    "    type(3.14),\n",
    "    type('Escape from SSHS'),\n",
    "    type((1, 2, 3)),\n",
    "    type([1, 2, 3]),\n",
    "    type(True)\n",
    ")"
   ]
  },
  {
   "cell_type": "markdown",
   "metadata": {},
   "source": [
    "**문제 2.** 밑에 있는 셀을 수정해서, 그 밑에 있는 셀의 결과가 `1023`이 되도록 해 주세요."
   ]
  },
  {
   "cell_type": "code",
   "execution_count": null,
   "metadata": {},
   "outputs": [],
   "source": [
    "x = 0"
   ]
  },
  {
   "cell_type": "code",
   "execution_count": null,
   "metadata": {},
   "outputs": [],
   "source": [
    "(x // 5) ** 10 - 1"
   ]
  },
  {
   "cell_type": "markdown",
   "metadata": {},
   "source": [
    "제어문을 통해 프로그램의 진행을 분기할 수 있어요.\n",
    "\n",
    "제어문은 `if [Boolean Expression]:` 형태로 작성하여 분기를 나눌 수 있어요.  "
   ]
  },
  {
   "cell_type": "code",
   "execution_count": 17,
   "metadata": {},
   "outputs": [
    {
     "data": {
      "text/plain": [
       "(True, False, True)"
      ]
     },
     "execution_count": 17,
     "metadata": {},
     "output_type": "execute_result"
    }
   ],
   "source": [
    "x = 3\n",
    "x == 3, x != 3, x // 3 == 1"
   ]
  },
  {
   "cell_type": "code",
   "execution_count": 15,
   "metadata": {},
   "outputs": [
    {
     "name": "stdout",
     "output_type": "stream",
     "text": [
      "x는 짝수입니다.\n"
     ]
    }
   ],
   "source": [
    "x = 10\n",
    "\n",
    "if x % 2 == 0:\n",
    "    print(\"x는 짝수입니다.\")\n",
    "else:\n",
    "    print(\"x는 홀수입니다.\")"
   ]
  },
  {
   "cell_type": "code",
   "execution_count": 16,
   "metadata": {},
   "outputs": [
    {
     "name": "stdout",
     "output_type": "stream",
     "text": [
      "True는 참입니다. - 고이즈미 신지로\n"
     ]
    }
   ],
   "source": [
    "if True:\n",
    "    print(\"True는 참입니다. - 고이즈미 신지로\")\n",
    "else:\n",
    "    print(\"메롱!\")"
   ]
  },
  {
   "cell_type": "markdown",
   "metadata": {},
   "source": [
    "제어문은 중첩해서 나타내는 것도 가능해요."
   ]
  },
  {
   "cell_type": "code",
   "execution_count": 18,
   "metadata": {},
   "outputs": [
    {
     "name": "stdout",
     "output_type": "stream",
     "text": [
      "x는 거의 소수입니다.\n"
     ]
    }
   ],
   "source": [
    "x = 998244353\n",
    "\n",
    "if x % 2 != 0:\n",
    "    if x % 3 != 0:\n",
    "        if x % 5 != 0:\n",
    "            print(\"x는 거의 소수입니다.\")\n",
    "        else:\n",
    "            print(\"x는 2와 3의 배수는 아니지만, 5의 배수입니다.\")\n",
    "    else:\n",
    "        print(\"x는 2의 배수가 아니지만, 3의 배수입니다.\")\n",
    "else:\n",
    "    print(\"x는 2의 배수입니다.\")"
   ]
  },
  {
   "cell_type": "markdown",
   "metadata": {},
   "source": [
    "**문제 3.** `x`가 `1`이라면 `하나`, `2`라면 `둘`, `3`보다 크다면 `많다`를 출력하세요."
   ]
  },
  {
   "cell_type": "code",
   "execution_count": 19,
   "metadata": {},
   "outputs": [],
   "source": [
    "x = 2"
   ]
  },
  {
   "cell_type": "code",
   "execution_count": null,
   "metadata": {},
   "outputs": [],
   "source": []
  },
  {
   "cell_type": "markdown",
   "metadata": {},
   "source": [
    "반복문을 통해 프로그램을 여러 번 반복할 수 있어요.\n",
    "\n",
    "기본적인 반복문은 `for [반복 변수] in range([반복 횟수]):` 형태로 작성하여 분기를 나눌 수 있어요.  "
   ]
  },
  {
   "cell_type": "code",
   "execution_count": 21,
   "metadata": {},
   "outputs": [
    {
     "name": "stdout",
     "output_type": "stream",
     "text": [
      "0\n",
      "1\n",
      "4\n",
      "9\n",
      "16\n"
     ]
    }
   ],
   "source": [
    "for i in range(5):\n",
    "    print(i ** 2)"
   ]
  },
  {
   "cell_type": "markdown",
   "metadata": {},
   "source": [
    "반복문 역시 중첩할 수 있어요."
   ]
  },
  {
   "cell_type": "code",
   "execution_count": 23,
   "metadata": {},
   "outputs": [
    {
     "name": "stdout",
     "output_type": "stream",
     "text": [
      "*\n",
      "**\n",
      "***\n",
      "****\n",
      "*****\n",
      "******\n",
      "*******\n"
     ]
    }
   ],
   "source": [
    "lines = 7\n",
    "\n",
    "for line in range(lines):\n",
    "    for star in range(line + 1):\n",
    "        print('*', end='')\n",
    "    print()"
   ]
  },
  {
   "cell_type": "markdown",
   "metadata": {},
   "source": [
    "**문제 4.** 반복문을 활용하여, 한 줄의 `lines`개의 `'*'`이 있는 `lines` 줄을 출력하세요. 예를 들어 `lines == 3`이라면 출력 결과는 `'*'`으로 이루어진 3*3의 정사각형이어야 합니다."
   ]
  },
  {
   "cell_type": "code",
   "execution_count": 24,
   "metadata": {},
   "outputs": [],
   "source": [
    "lines = 7"
   ]
  },
  {
   "cell_type": "code",
   "execution_count": null,
   "metadata": {},
   "outputs": [],
   "source": []
  },
  {
   "cell_type": "markdown",
   "metadata": {},
   "source": [
    "프로그램의 특정 부분을 감싸 함수로 만들고, 이를 활용할 수 있어요.\n",
    "\n",
    "함수는 `def [함수 이름]([파라미터]...):`로 정의합니다.\n",
    "\n",
    "함수는 값을 반환할 수 있으며, 값을 반환하는 순간 함수는 종료됩니다. `return [값]`을 통해 값을 반환할 수 있어요."
   ]
  },
  {
   "cell_type": "code",
   "execution_count": 31,
   "metadata": {},
   "outputs": [],
   "source": [
    "# 인자를 받지 않고 값을 반환하지 않는 함수\n",
    "def function1():\n",
    "    pass\n",
    "\n",
    "# 인자를 받고 값을 반환하지 않는 함수\n",
    "def function2(x):\n",
    "    print(x)\n",
    "\n",
    "# 인자를 받지 않고 값을 반환하는 함수\n",
    "def function3():\n",
    "    return 3\n",
    "\n",
    "# 인자를 받고 값을 반환하는 함수\n",
    "def function4(x, y):\n",
    "    return (x ** 2 + y ** 2) ** 0.5"
   ]
  },
  {
   "cell_type": "code",
   "execution_count": 26,
   "metadata": {},
   "outputs": [
    {
     "name": "stdout",
     "output_type": "stream",
     "text": [
      "함수 실행 전\n",
      "함수 실행 끝\n",
      "반환된 값: None\n"
     ]
    }
   ],
   "source": [
    "print(\"함수 실행 전\")\n",
    "returned = function1()\n",
    "print(\"함수 실행 끝\")\n",
    "print(f\"반환된 값: {returned}\")"
   ]
  },
  {
   "cell_type": "code",
   "execution_count": 28,
   "metadata": {},
   "outputs": [
    {
     "name": "stdout",
     "output_type": "stream",
     "text": [
      "함수 실행 전\n",
      "3\n",
      "함수 실행 끝\n",
      "반환된 값: None\n"
     ]
    }
   ],
   "source": [
    "print(\"함수 실행 전\")\n",
    "returned = function2(3)\n",
    "print(\"함수 실행 끝\")\n",
    "print(f\"반환된 값: {returned}\")"
   ]
  },
  {
   "cell_type": "code",
   "execution_count": 29,
   "metadata": {},
   "outputs": [
    {
     "name": "stdout",
     "output_type": "stream",
     "text": [
      "함수 실행 전\n",
      "함수 실행 끝\n",
      "반환된 값: 3\n"
     ]
    }
   ],
   "source": [
    "print(\"함수 실행 전\")\n",
    "returned = function3()\n",
    "print(\"함수 실행 끝\")\n",
    "print(f\"반환된 값: {returned}\")"
   ]
  },
  {
   "cell_type": "code",
   "execution_count": 32,
   "metadata": {},
   "outputs": [
    {
     "name": "stdout",
     "output_type": "stream",
     "text": [
      "함수 실행 전\n",
      "함수 실행 끝\n",
      "반환된 값: 5.0\n"
     ]
    }
   ],
   "source": [
    "print(\"함수 실행 전\")\n",
    "returned = function4(3, 4)\n",
    "print(\"함수 실행 끝\")\n",
    "print(f\"반환된 값: {returned}\")"
   ]
  },
  {
   "cell_type": "markdown",
   "metadata": {},
   "source": [
    "**문제 5.** 파라미터 `x`와 `y`를 입력으로 받아, 밑변이 `x`이고 높이가 `y`인 삼각형의 넓이를 반환하는 함수 `triangle_area`를 작성하세요."
   ]
  },
  {
   "cell_type": "code",
   "execution_count": null,
   "metadata": {},
   "outputs": [],
   "source": []
  },
  {
   "cell_type": "code",
   "execution_count": null,
   "metadata": {},
   "outputs": [],
   "source": [
    "triangle_area(7, 2)"
   ]
  }
 ],
 "metadata": {
  "interpreter": {
   "hash": "31f2aee4e71d21fbe5cf8b01ff0e069b9275f58929596ceb00d14d90e3e16cd6"
  },
  "kernelspec": {
   "display_name": "Python 3.6.9 64-bit",
   "language": "python",
   "name": "python3"
  },
  "language_info": {
   "codemirror_mode": {
    "name": "ipython",
    "version": 3
   },
   "file_extension": ".py",
   "mimetype": "text/x-python",
   "name": "python",
   "nbconvert_exporter": "python",
   "pygments_lexer": "ipython3",
   "version": "3.8.8"
  },
  "orig_nbformat": 4
 },
 "nbformat": 4,
 "nbformat_minor": 2
}
