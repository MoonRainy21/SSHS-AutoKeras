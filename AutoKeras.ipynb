{
 "cells": [
  {
   "cell_type": "markdown",
   "metadata": {},
   "source": [
    "# Setup"
   ]
  },
  {
   "cell_type": "code",
   "execution_count": null,
   "metadata": {},
   "outputs": [],
   "source": [
    "!pip install autokeras"
   ]
  },
  {
   "cell_type": "code",
   "execution_count": null,
   "metadata": {},
   "outputs": [],
   "source": [
    "# 라이브러리 임포트\n",
    "\n",
    "import pandas as pd # pandas: DataFrame, Series 등을 다루는 라이브러리\n",
    "import numpy as np # numpy: python으로 행렬 처리 등을 도와주는 라이브러리\n",
    "import tensorflow as tf # tensorflow: 인공지능 관련 라이브러리\n",
    "import autokeras as ak # autokeras: 오토케라스"
   ]
  },
  {
   "cell_type": "code",
   "execution_count": null,
   "metadata": {},
   "outputs": [],
   "source": [
    "from sklearn.datasets import fetch_california_housing # 캘리포니아 주택 정보 데이터셋 임포트"
   ]
  },
  {
   "cell_type": "code",
   "execution_count": null,
   "metadata": {},
   "outputs": [],
   "source": [
    "house_dataset = fetch_california_housing() # 캘리포니아 주택 정보 데이터셋 로드\n",
    "df = pd.DataFrame(\n",
    "    np.concatenate(\n",
    "        (house_dataset.data, house_dataset.target.reshape(-1, 1)), axis=1\n",
    "    ),\n",
    "    columns=house_dataset.feature_names + [\"Price\"],\n",
    ") # 데이터셋을 DataFrame(엑셀과 비슷한 자료 정리 형식)으로 만듬"
   ]
  },
  {
   "cell_type": "code",
   "execution_count": null,
   "metadata": {},
   "outputs": [],
   "source": [
    "train_size = int(df.shape[0]*0.9)\n",
    "train_file_path = \"data/train.csv\"\n",
    "test_file_path = \"data/test.csv\"\n",
    "df[:train_size].to_csv(train_file_path, index=False)\n",
    "df[train_size:].to_csv(test_file_path, index=False)\n",
    "# 1번 데이터셋을 파일로 저장, 0.9 만큼은 train data로, 0.1만큼은 test data로 저장"
   ]
  },
  {
   "cell_type": "code",
   "execution_count": null,
   "metadata": {},
   "outputs": [],
   "source": [
    "from tensorflow.keras.datasets import mnist # mnist 데이터 임포트"
   ]
  },
  {
   "cell_type": "code",
   "execution_count": null,
   "metadata": {},
   "outputs": [],
   "source": [
    "(x_train, y_train), (x_test, y_test) = mnist.load_data() # mnist 데이터셋 로드\n",
    "print(x_train.shape)  # 데이터셋 (60000, 28, 28)\n",
    "print(y_train.shape)  # (60000,)\n",
    "print(y_train[:3])  # array([7, 2, 1], dtype=uint8)"
   ]
  },
  {
   "cell_type": "markdown",
   "metadata": {},
   "source": [
    "# AutoKeras Structured Regression"
   ]
  },
  {
   "cell_type": "code",
   "execution_count": null,
   "metadata": {},
   "outputs": [],
   "source": [
    "reg = ak.StructuredDataRegressor(\n",
    "    overwrite=True, max_trials=5\n",
    ") # AutoKeras 모델 생성\n",
    "\n",
    "reg.fit(\n",
    "    train_file_path,\n",
    "    \"Price\",\n",
    "    epochs=20,\n",
    "    validation_split=0.15\n",
    ")\n",
    "# 모델 학습\n",
    "\n",
    "predicted_y = reg.predict(test_file_path) # 모델로부터 예측값 획득\n",
    "print(reg.evaluate(test_file_path, \"Price\")) # 예측값 평가"
   ]
  },
  {
   "cell_type": "code",
   "execution_count": null,
   "metadata": {},
   "outputs": [],
   "source": [
    "model = reg.export_model() # 모델 저장\n",
    "model.summary()"
   ]
  },
  {
   "cell_type": "markdown",
   "metadata": {},
   "source": [
    "# AutoKeras Image Classification"
   ]
  },
  {
   "cell_type": "code",
   "execution_count": null,
   "metadata": {},
   "outputs": [],
   "source": [
    "clf = ak.ImageClassifier(\n",
    "    overwrite=True, max_trials=3\n",
    ") # AutoKeras Image 모델 생성\n",
    "\n",
    "clf.fit(\n",
    "    x_train,\n",
    "    y_train,\n",
    "    epochs=1,\n",
    "    validation_split=0.15\n",
    ") #  모델 학습\n",
    "\n",
    "predicted_y = clf.predict(x_test) # 모델로부터 예측값 획득\n",
    "print(predicted_y)\n",
    "print(clf.evaluate(x_test, y_test)) # 예측값 평가"
   ]
  },
  {
   "cell_type": "code",
   "execution_count": null,
   "metadata": {},
   "outputs": [],
   "source": [
    "model = clf.export_model() # 모델 저장\n",
    "model.summary()"
   ]
  },
  {
   "cell_type": "markdown",
   "metadata": {},
   "source": [
    "# Learning Basic Pandas"
   ]
  },
  {
   "cell_type": "markdown",
   "metadata": {},
   "source": [
    "이 섹션에서는 pandas 라는 라이브러리의 사용법을 알아봅시다"
   ]
  },
  {
   "cell_type": "markdown",
   "metadata": {
    "id": "Hfe0knh40NYt"
   },
   "source": [
    "\n",
    "### 1.Pandas 라이브러리 import하기"
   ]
  },
  {
   "cell_type": "code",
   "execution_count": null,
   "metadata": {
    "id": "42VLzAVfrFtW"
   },
   "outputs": [],
   "source": [
    "import pandas as pd # pandas 임포트"
   ]
  },
  {
   "cell_type": "markdown",
   "metadata": {
    "id": "jPSTYRWwrFtd"
   },
   "source": [
    "### 2.파일에서 데이터 로드하기\n",
    "\n",
    "- 확장자가 CSV가 아닌 파일 즉, 데이터를 구분하는 구분자(separator)가 쉼표(comma)가 아니면 sep 인수를 써서 구분자를 사용자가 지정해준다. \n",
    "- 만약 구분자가 길이가 정해지지 않은 공백인 경우에는 \\s+라는 정규식(regular expression) 문자열을 사용한다."
   ]
  },
  {
   "cell_type": "code",
   "execution_count": null,
   "metadata": {
    "id": "2nVQleBurFtd"
   },
   "outputs": [],
   "source": [
    "# csv타입 데이터 파일, sep:구분자로 여러 공백 지정, 피처이름 없음.\n",
    "data = pd.read_csv(\"sample_data/california_housing_train.csv\") # csv 파일 읽어오기"
   ]
  },
  {
   "cell_type": "markdown",
   "metadata": {
    "id": "7K-akmTrrFtf"
   },
   "source": [
    "파일로부터 데이터를 가져와서 DataFrame 생성하여 반환한다."
   ]
  },
  {
   "cell_type": "code",
   "execution_count": null,
   "metadata": {
    "colab": {
     "base_uri": "https://localhost:8080/",
     "height": 203
    },
    "id": "95hc-r-vrFtg",
    "outputId": "3cf5e46a-d241-489e-82b8-f07eb72cde70"
   },
   "outputs": [],
   "source": [
    "data.head() # 처음 5행 출력"
   ]
  },
  {
   "cell_type": "code",
   "execution_count": null,
   "metadata": {
    "colab": {
     "base_uri": "https://localhost:8080/",
     "height": 315
    },
    "id": "J6jO82EpcPkI",
    "outputId": "6dd318b9-4690-45b9-f755-d212335c6825"
   },
   "outputs": [],
   "source": [
    "data.describe() # 데이터 설명"
   ]
  },
  {
   "cell_type": "markdown",
   "metadata": {},
   "source": [
    "# How to Show Data"
   ]
  },
  {
   "cell_type": "code",
   "execution_count": null,
   "metadata": {},
   "outputs": [],
   "source": [
    "import matplotlib.pyplot as plt # matplotlib.pyplot 임포트\n",
    "import seaborn as sns # seaborn 임포트\n",
    "plt.rc('font', family='NanumBarunGothic')"
   ]
  },
  {
   "cell_type": "markdown",
   "metadata": {},
   "source": [
    "HeatMap 그리기"
   ]
  },
  {
   "cell_type": "code",
   "execution_count": null,
   "metadata": {},
   "outputs": [],
   "source": [
    "data = pd.read_csv(\"sample_data/california_housing_train.csv\") # 데이터 로드"
   ]
  },
  {
   "cell_type": "code",
   "execution_count": null,
   "metadata": {},
   "outputs": [],
   "source": [
    "data.head() # 데이터 처음 5줄 출력"
   ]
  },
  {
   "cell_type": "code",
   "execution_count": null,
   "metadata": {},
   "outputs": [],
   "source": [
    "plt.figure(figsize=(8,8))\n",
    "sns.heatmap(data.corr(), annot = True) # 히트맵 그리기"
   ]
  },
  {
   "cell_type": "markdown",
   "metadata": {},
   "source": [
    "선형 그래프 그리기"
   ]
  },
  {
   "cell_type": "code",
   "execution_count": null,
   "metadata": {},
   "outputs": [],
   "source": [
    "data = pd.read_csv(\"sample_data/california_housing_train.csv\") # 데이터 로드"
   ]
  },
  {
   "cell_type": "code",
   "execution_count": null,
   "metadata": {},
   "outputs": [],
   "source": [
    "data.head() # 데이터 처음 5줄"
   ]
  },
  {
   "cell_type": "code",
   "execution_count": null,
   "metadata": {},
   "outputs": [],
   "source": [
    "import matplotlib.pyplot as plt\n",
    "plt.scatter(data['total_rooms'], data['median_house_value'], c='black')"
   ]
  }
 ],
 "metadata": {
  "interpreter": {
   "hash": "5b0279e290348ff464476dad1d4c6cd2e6bdb6d7e5627f659ddcade95c85490c"
  },
  "kernelspec": {
   "display_name": "Python 3.8.10 64-bit ('AutoML': venv)",
   "name": "python3"
  },
  "language_info": {
   "codemirror_mode": {
    "name": "ipython",
    "version": 3
   },
   "file_extension": ".py",
   "mimetype": "text/x-python",
   "name": "python",
   "nbconvert_exporter": "python",
   "pygments_lexer": "ipython3",
   "version": "3.9.7"
  },
  "orig_nbformat": 4
 },
 "nbformat": 4,
 "nbformat_minor": 2
}
